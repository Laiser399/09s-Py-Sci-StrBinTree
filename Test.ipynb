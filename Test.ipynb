{
 "cells": [
  {
   "cell_type": "markdown",
   "metadata": {
    "collapsed": true,
    "pycharm": {
     "name": "#%% md\n"
    }
   },
   "source": [
    "## <font color=red>ДОМАШНЕЕ ЗАДАНИЕ</font>"
   ]
  },
  {
   "cell_type": "markdown",
   "source": [
    "Сделайте класс бинарного дерева, который наполняется строками. <br>\n",
    "Все функции добавления, поиска, удаления, длины должны быть рекурсивными<br><br>\n",
    "<font color=red>__deadline - 18:00 30.09__</font>"
   ],
   "metadata": {
    "collapsed": false
   }
  },
  {
   "cell_type": "markdown",
   "source": [
    "ДЗ посылать по адресу __mai-ml AT mail.ru__"
   ],
   "metadata": {
    "collapsed": false
   }
  },
  {
   "cell_type": "code",
   "execution_count": 1,
   "outputs": [],
   "source": [
    "from StrBinTree import StrBinTree"
   ],
   "metadata": {
    "collapsed": false,
    "pycharm": {
     "name": "#%%\n"
    }
   }
  },
  {
   "cell_type": "code",
   "execution_count": 2,
   "outputs": [
    {
     "name": "stdout",
     "output_type": "stream",
     "text": [
      "Help on class StrBinTree in module StrBinTree:\n",
      "\n",
      "class StrBinTree(builtins.object)\n",
      " |  Класс бинарного дерева с функциями поиска и выдачи ближайших строк\n",
      " |  \n",
      " |  Methods defined here:\n",
      " |  \n",
      " |  __add__(self, item)\n",
      " |      операция \"+\" объединения для двух деревьев\n",
      " |  \n",
      " |  __contains__(self, value: <built-in function any>)\n",
      " |      возвращает True, если есть точно такая же строка, или False, если её нет\n",
      " |  \n",
      " |  __init__(self)\n",
      " |      Initialize self.  See help(type(self)) for accurate signature.\n",
      " |  \n",
      " |  __iter__(self)\n",
      " |  \n",
      " |  __len__(self)\n",
      " |      возвращает количество строк в дереве\n",
      " |  \n",
      " |  __str__(self)\n",
      " |      Return str(self).\n",
      " |  \n",
      " |  add(self, value: <built-in function any>)\n",
      " |      добавляет строку в дерево\n",
      " |  \n",
      " |  get(self, value)\n",
      " |      Возвращает две ближайшие строки, между которыми находится value\n",
      " |      Возвращаемые значения:\n",
      " |          (None, None) - дерево пусто\n",
      " |          (a, None) - value > a, при этом a - наибольший элемент в дереве\n",
      " |          (None, b) - value < b, при этом b - наименьший элемент в дереве\n",
      " |          (a, b) - a < value < b\n",
      " |          (a, a) - a == value\n",
      " |  \n",
      " |  remove(self, value)\n",
      " |      удаляет строку. Удаление производится только в случае точного совпадения\n",
      " |      строки с указанной. Возвращает 0, если удаление выполнено, и 1 в остальных случаях\n",
      " |  \n",
      " |  to_list(self)\n",
      " |      возвращает все строки в виде упорядоченного списка\n",
      " |  \n",
      " |  ----------------------------------------------------------------------\n",
      " |  Data descriptors defined here:\n",
      " |  \n",
      " |  __dict__\n",
      " |      dictionary for instance variables (if defined)\n",
      " |  \n",
      " |  __weakref__\n",
      " |      list of weak references to the object (if defined)\n",
      "\n"
     ]
    }
   ],
   "source": [
    "help(StrBinTree)"
   ],
   "metadata": {
    "collapsed": false,
    "pycharm": {
     "name": "#%%\n"
    }
   }
  },
  {
   "cell_type": "code",
   "execution_count": 3,
   "outputs": [
    {
     "name": "stdout",
     "output_type": "stream",
     "text": [
      "[]\n",
      "['0', '1', '2', '246', '3', '4', '69769', 'oiyt', 'sf', 'str', 'tree']\n",
      "3[0[,1[,2[,246]]],4[,sf[69769[,oiyt],tree[str,]]]]\n"
     ]
    }
   ],
   "source": [
    "tree = StrBinTree()\n",
    "print(tree.to_list())\n",
    "tree.add('3')\n",
    "tree.add('4')\n",
    "tree.add('0')\n",
    "tree.add('1')\n",
    "tree.add('2')\n",
    "tree.add('246')\n",
    "tree.add('sf')\n",
    "tree.add('69769')\n",
    "tree.add('oiyt')\n",
    "tree.add('tree')\n",
    "tree.add('str')\n",
    "\n",
    "print(tree.to_list())\n",
    "print(tree)"
   ],
   "metadata": {
    "collapsed": false,
    "pycharm": {
     "name": "#%%\n"
    }
   }
  },
  {
   "cell_type": "code",
   "execution_count": 4,
   "outputs": [
    {
     "name": "stdout",
     "output_type": "stream",
     "text": [
      "(None, '0')\n",
      "('tree', None)\n",
      "\n",
      "('0', '1')\n",
      "('246', '3')\n",
      "('69769', 'oiyt')\n",
      "\n",
      "('3', '3')\n",
      "('4', '4')\n",
      "('0', '0')\n"
     ]
    }
   ],
   "source": [
    "print(tree.get('-1'))\n",
    "print(tree.get('zz'))\n",
    "print()\n",
    "print(tree.get('011'))\n",
    "print(tree.get('256'))\n",
    "print(tree.get('kl'))\n",
    "print()\n",
    "print(tree.get('3'))\n",
    "print(tree.get('4'))\n",
    "print(tree.get('0'))"
   ],
   "metadata": {
    "collapsed": false,
    "pycharm": {
     "name": "#%%\n"
    }
   }
  },
  {
   "cell_type": "code",
   "execution_count": 5,
   "outputs": [
    {
     "name": "stdout",
     "output_type": "stream",
     "text": [
      "['0', '1', '2', '246', '3', '4', '69769', 'oiyt', 'sf', 'str', 'tree']\n",
      "['-1', '123', 'regular value', 'special value']\n",
      "['-1', '0', '1', '123', '2', '246', '3', '4', '69769', 'oiyt', 'regular value', 'sf', 'special value', 'str', 'tree']\n"
     ]
    }
   ],
   "source": [
    "tree2 = StrBinTree()\n",
    "tree2.add('special value')\n",
    "tree2.add('regular value')\n",
    "tree2.add('123')\n",
    "tree2.add('-1')\n",
    "\n",
    "sum_tree = tree + tree2\n",
    "print(tree.to_list())\n",
    "print(tree2.to_list())\n",
    "print(sum_tree.to_list())"
   ],
   "metadata": {
    "collapsed": false,
    "pycharm": {
     "name": "#%%\n"
    }
   }
  },
  {
   "cell_type": "code",
   "execution_count": 6,
   "outputs": [
    {
     "name": "stdout",
     "output_type": "stream",
     "text": [
      "['0', '1', '2', '246', '3', '4', '69769', 'oiyt', 'sf', 'str', 'tree']\n",
      "['0', '1', '2', '246', '4', '69769', 'oiyt', 'sf', 'str', 'tree']\n",
      "['0', '1', '2', '246', '4', '69769', 'sf', 'str', 'tree']\n",
      "['1', '2', '246', '4', '69769', 'sf', 'str', 'tree']\n",
      "['2', '246', '4', '69769', 'sf', 'str', 'tree']\n",
      "['246', '4', '69769', 'sf', 'str', 'tree']\n",
      "['4', '69769', 'sf', 'str', 'tree']\n",
      "['69769', 'sf', 'str', 'tree']\n",
      "['sf', 'str', 'tree']\n",
      "['str', 'tree']\n",
      "['tree']\n",
      "[]\n"
     ]
    }
   ],
   "source": [
    "print(tree.to_list())\n",
    "tree.remove('3')\n",
    "print(tree.to_list())\n",
    "tree.remove('oiyt')\n",
    "print(tree.to_list())\n",
    "for x in tree.to_list():\n",
    "    tree.remove(x)\n",
    "    print(tree.to_list())"
   ],
   "metadata": {
    "collapsed": false,
    "pycharm": {
     "name": "#%%\n"
    }
   }
  }
 ],
 "metadata": {
  "kernelspec": {
   "name": "pycharm-10b54cab",
   "language": "python",
   "display_name": "PyCharm (tm jup)"
  },
  "language_info": {
   "codemirror_mode": {
    "name": "ipython",
    "version": 2
   },
   "file_extension": ".py",
   "mimetype": "text/x-python",
   "name": "python",
   "nbconvert_exporter": "python",
   "pygments_lexer": "ipython2",
   "version": "2.7.6"
  }
 },
 "nbformat": 4,
 "nbformat_minor": 0
}